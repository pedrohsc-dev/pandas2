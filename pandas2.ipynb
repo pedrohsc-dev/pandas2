{
 "cells": [
  {
   "cell_type": "markdown",
   "metadata": {},
   "source": [
    "# Aula de Pandas 2\n",
    "Na última aula tivemos uma introdção de pandas  aprendmos a realizar algumas operações essenciais de limpeza, filtragem e maniplação de dados.\n",
    "\n",
    "Nesta aula, aprenderemos:\n",
    "\n",
    "* Como acessar nossas bases de dados utilizando os métodos Loc e iLoc;\n",
    "* Aprender sobre funções agregadoras e suas funcionalidades;\n",
    "* Aprender métodos úteis como groupby e pivot table;\n",
    "* Explorar alguns outros métodos como merge, diff, pct_change e sift. "
   ]
  },
  {
   "cell_type": "code",
   "execution_count": 1,
   "metadata": {},
   "outputs": [],
   "source": [
    "import pandas as pd"
   ]
  }
 ],
 "metadata": {
  "kernelspec": {
   "display_name": "Python 3",
   "language": "python",
   "name": "python3"
  },
  "language_info": {
   "codemirror_mode": {
    "name": "ipython",
    "version": 3
   },
   "file_extension": ".py",
   "mimetype": "text/x-python",
   "name": "python",
   "nbconvert_exporter": "python",
   "pygments_lexer": "ipython3",
   "version": "3.11.6"
  }
 },
 "nbformat": 4,
 "nbformat_minor": 2
}
